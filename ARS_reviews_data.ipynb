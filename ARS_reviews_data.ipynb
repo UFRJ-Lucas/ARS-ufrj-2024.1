{
 "cells": [
  {
   "cell_type": "code",
   "execution_count": null,
   "metadata": {},
   "outputs": [],
   "source": [
    "import pandas as pd\n",
    "import requests as req\n",
    "import numpy as np\n",
    "import time\n",
    "import json\n",
    "from tqdm import tqdm"
   ]
  },
  {
   "cell_type": "code",
   "execution_count": null,
   "metadata": {},
   "outputs": [],
   "source": [
    "# Constants\n",
    "STEAM_REVIEW_CSV_PATH = './datasets/steam_reviews.csv'          # Enter the path to the steam reviews dataset file\n",
    "CATEGORIES_CSV_PATH = './datasets/steam_categories.csv'         # Enter the output path for the categories dataset file\n",
    "GENRES_CSV_PATH = './datasets/steam_genres.csv'                 # Enter the output path for the genres dataset file"
   ]
  },
  {
   "cell_type": "code",
   "execution_count": null,
   "metadata": {},
   "outputs": [],
   "source": [
    "df = pd.read_csv(STEAM_REVIEW_CSV_PATH)"
   ]
  },
  {
   "cell_type": "markdown",
   "metadata": {},
   "source": [
    "## Cleaning the data"
   ]
  },
  {
   "cell_type": "code",
   "execution_count": null,
   "metadata": {},
   "outputs": [],
   "source": [
    "# Get the first 5 rows of the dataset\n",
    "df.head()"
   ]
  },
  {
   "cell_type": "code",
   "execution_count": null,
   "metadata": {},
   "outputs": [],
   "source": [
    "# Get basic information about the dataset\n",
    "print(df.info())"
   ]
  },
  {
   "cell_type": "code",
   "execution_count": null,
   "metadata": {},
   "outputs": [],
   "source": [
    "# Clear rows with null values\n",
    "df = df.dropna()\n",
    "print(df.shape)"
   ]
  },
  {
   "cell_type": "code",
   "execution_count": null,
   "metadata": {},
   "outputs": [],
   "source": [
    "# Check for reviews that contain only more than three words\n",
    "df = df[df['review_text'].str.count('\\s+') > 2]"
   ]
  },
  {
   "cell_type": "code",
   "execution_count": null,
   "metadata": {},
   "outputs": [],
   "source": [
    "# Check for reviews that contain only space and remove them\n",
    "df = df[~df['review_text'].str.isspace()]"
   ]
  },
  {
   "cell_type": "code",
   "execution_count": null,
   "metadata": {},
   "outputs": [],
   "source": [
    "# Check for reviews that don't contain any letters and remove them\n",
    "df = df[df['review_text'].str.contains('[a-zA-Z]')]"
   ]
  },
  {
   "cell_type": "code",
   "execution_count": null,
   "metadata": {},
   "outputs": [],
   "source": [
    "# Check for reviews with the text 'Early Access Review' and remove them\n",
    "df = df[~df['review_text'].str.contains('Early Access Review')]"
   ]
  },
  {
   "cell_type": "code",
   "execution_count": null,
   "metadata": {},
   "outputs": [],
   "source": [
    "# Drop duplicated reviews\n",
    "df = df.drop_duplicates(subset='review_text')"
   ]
  },
  {
   "cell_type": "code",
   "execution_count": null,
   "metadata": {},
   "outputs": [],
   "source": [
    "# Change ♥ to * in the reviews\n",
    "df['review_text'] = df['review_text'].str.replace('♥', '*')"
   ]
  },
  {
   "cell_type": "code",
   "execution_count": null,
   "metadata": {},
   "outputs": [],
   "source": [
    "# Reset the index and check the shape of the cleaned dataset\n",
    "df = df.reset_index(drop=True)\n",
    "print(df.shape)"
   ]
  },
  {
   "cell_type": "markdown",
   "metadata": {},
   "source": [
    "## Incrementing the dataset"
   ]
  },
  {
   "cell_type": "code",
   "execution_count": null,
   "metadata": {},
   "outputs": [],
   "source": [
    "# Show how many unique games are in the dataset\n",
    "print(df['app_id'].nunique())"
   ]
  },
  {
   "cell_type": "code",
   "execution_count": null,
   "metadata": {},
   "outputs": [],
   "source": [
    "# Get all unique app_ids in the dataset\n",
    "app_ids = df['app_id'].unique()"
   ]
  },
  {
   "cell_type": "markdown",
   "metadata": {},
   "source": [
    "### Adding categories column"
   ]
  },
  {
   "cell_type": "code",
   "execution_count": null,
   "metadata": {},
   "outputs": [],
   "source": [
    "# Function to get the categories of a game from the Steam API\n",
    "# Creates a csv file with the app_id and its categories\n",
    "\n",
    "def get_categories(app_ids):\n",
    "    # Make a new dataframe with the unique app_ids\n",
    "    df_app_ids = pd.DataFrame(app_ids, columns=['app_id'])\n",
    "\n",
    "    # For each id, get the categories from the Steam API and save them in a new column\n",
    "    for id in tqdm(app_ids):\n",
    "        url = f'https://store.steampowered.com/api/appdetails?appids={id}'\n",
    "        response = req.get(url)\n",
    "        data = response.json()\n",
    "        try:\n",
    "            categories = data[str(id)]['data']['categories']\n",
    "            categories = [category['description'] for category in categories]\n",
    "            df_app_ids.loc[df_app_ids['app_id'] == id, 'categories'] = ', '.join(categories)\n",
    "        except:\n",
    "            df_app_ids.loc[df_app_ids['app_id'] == id, 'categories'] = np.nan\n",
    "\n",
    "        # Wait for 2 second to avoid getting blocked by the server\n",
    "        time.sleep(2)\n",
    "\n",
    "    # Export the dataframe to a csv file\n",
    "    df_app_ids.to_csv(CATEGORIES_CSV_PATH, index=False)"
   ]
  },
  {
   "cell_type": "code",
   "execution_count": null,
   "metadata": {},
   "outputs": [],
   "source": [
    "# # Get the categories of the games\n",
    "# get_categories(app_ids)"
   ]
  },
  {
   "cell_type": "code",
   "execution_count": null,
   "metadata": {},
   "outputs": [],
   "source": [
    "# Read the df_app_ids dataframe and merge with the original dataset\n",
    "df_app_ids = pd.read_csv(CATEGORIES_CSV_PATH)\n",
    "df = df.merge(df_app_ids, on='app_id')"
   ]
  },
  {
   "cell_type": "code",
   "execution_count": null,
   "metadata": {},
   "outputs": [],
   "source": [
    "# Fill NaN categories with empty string\n",
    "df['categories'] = df['categories'].fillna('')"
   ]
  },
  {
   "cell_type": "markdown",
   "metadata": {},
   "source": [
    "### Adding genres column"
   ]
  },
  {
   "cell_type": "code",
   "execution_count": null,
   "metadata": {},
   "outputs": [],
   "source": [
    "# Function to get the genres of a game from the Steam API\n",
    "# Creates a csv file with the app_id and its genres\n",
    "\n",
    "def get_genres(app_ids):\n",
    "    # Make a new dataframe with the unique app_ids\n",
    "    df_app_ids = pd.DataFrame(app_ids, columns=['app_id'])\n",
    "\n",
    "    # For each id, get the genres from the Steam API and save them in a new column\n",
    "    for id in tqdm(app_ids):\n",
    "        try:\n",
    "            url = f'https://store.steampowered.com/api/appdetails?appids={id}&l=english'\n",
    "            response = req.get(url)\n",
    "\n",
    "            data = response.json()\n",
    "\n",
    "        except json.JSONDecodeError:\n",
    "            # Ignore if there is an error in decoding the JSON\n",
    "            print(f'Json decode error in app_id = {id}')\n",
    "            data = None\n",
    "        except Exception as e:\n",
    "            print(f'Unexpected error for app_id = {id}: {e}')\n",
    "            data = None\n",
    "\n",
    "        try:\n",
    "            genres = data[str(id)]['data']['genres']\n",
    "            genres = [genre['description'] for genre in genres]\n",
    "            df_app_ids.loc[df_app_ids['app_id'] == id, 'genres'] = ', '.join(genres)\n",
    "        except:\n",
    "            df_app_ids.loc[df_app_ids['app_id'] == id, 'genres'] = ''\n",
    "\n",
    "        # Wait for 2 second to avoid getting blocked by the server\n",
    "        time.sleep(2)\n",
    "\n",
    "    # Export the dataframe to a csv file\n",
    "    df_app_ids.to_csv(GENRES_CSV_PATH, index=False)"
   ]
  },
  {
   "cell_type": "code",
   "execution_count": null,
   "metadata": {},
   "outputs": [],
   "source": [
    "# Get the genres of the games\n",
    "# get_genres(app_ids)"
   ]
  },
  {
   "cell_type": "code",
   "execution_count": null,
   "metadata": {},
   "outputs": [],
   "source": [
    "# Read the df_app_ids dataframe and merge with the original dataset\n",
    "df_app_ids = pd.read_csv(GENRES_CSV_PATH)\n",
    "df = df.merge(df_app_ids, on='app_id')"
   ]
  },
  {
   "cell_type": "markdown",
   "metadata": {},
   "source": [
    "## Exporting cleaned dataset"
   ]
  },
  {
   "cell_type": "code",
   "execution_count": null,
   "metadata": {},
   "outputs": [],
   "source": [
    "# Export the final dataset to a csv file\n",
    "CLEAN_DATA_PATH = 'datasets/cleaned_steam_reviews.csv' # change this to the path of the cleaned dataset\n",
    "df.to_csv(CLEAN_DATA_PATH, index=False)"
   ]
  }
 ],
 "metadata": {
  "kernelspec": {
   "display_name": "Python 3",
   "language": "python",
   "name": "python3"
  },
  "language_info": {
   "codemirror_mode": {
    "name": "ipython",
    "version": 3
   },
   "file_extension": ".py",
   "mimetype": "text/x-python",
   "name": "python",
   "nbconvert_exporter": "python",
   "pygments_lexer": "ipython3",
   "version": "3.8.8"
  }
 },
 "nbformat": 4,
 "nbformat_minor": 2
}
