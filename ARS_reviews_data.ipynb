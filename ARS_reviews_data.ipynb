{
 "cells": [
  {
   "cell_type": "code",
   "execution_count": 23,
   "metadata": {},
   "outputs": [],
   "source": [
    "import pandas as pd\n",
    "import requests as req\n",
    "import numpy as np\n",
    "import time\n",
    "import json\n",
    "from tqdm import tqdm"
   ]
  },
  {
   "cell_type": "code",
   "execution_count": 2,
   "metadata": {},
   "outputs": [],
   "source": [
    "# Constants\n",
    "STEAM_REVIEW_CSV_PATH = './datasets/steam_reviews.csv'          # Enter the path to the steam reviews dataset file\n",
    "CATEGORIES_CSV_PATH = './datasets/steam_categories.csv'         # Enter the output path for the categories dataset file\n",
    "GENRES_CSV_PATH = './datasets/steam_genres.csv'                 # Enter the output path for the genres dataset file"
   ]
  },
  {
   "cell_type": "code",
   "execution_count": 3,
   "metadata": {},
   "outputs": [],
   "source": [
    "df = pd.read_csv(STEAM_REVIEW_CSV_PATH)"
   ]
  },
  {
   "cell_type": "markdown",
   "metadata": {},
   "source": [
    "## Cleaning the data"
   ]
  },
  {
   "cell_type": "code",
   "execution_count": 4,
   "metadata": {},
   "outputs": [
    {
     "data": {
      "text/html": [
       "<div>\n",
       "<style scoped>\n",
       "    .dataframe tbody tr th:only-of-type {\n",
       "        vertical-align: middle;\n",
       "    }\n",
       "\n",
       "    .dataframe tbody tr th {\n",
       "        vertical-align: top;\n",
       "    }\n",
       "\n",
       "    .dataframe thead th {\n",
       "        text-align: right;\n",
       "    }\n",
       "</style>\n",
       "<table border=\"1\" class=\"dataframe\">\n",
       "  <thead>\n",
       "    <tr style=\"text-align: right;\">\n",
       "      <th></th>\n",
       "      <th>app_id</th>\n",
       "      <th>app_name</th>\n",
       "      <th>review_text</th>\n",
       "      <th>review_score</th>\n",
       "      <th>review_votes</th>\n",
       "    </tr>\n",
       "  </thead>\n",
       "  <tbody>\n",
       "    <tr>\n",
       "      <th>0</th>\n",
       "      <td>10</td>\n",
       "      <td>Counter-Strike</td>\n",
       "      <td>Ruined my life.</td>\n",
       "      <td>1</td>\n",
       "      <td>0</td>\n",
       "    </tr>\n",
       "    <tr>\n",
       "      <th>1</th>\n",
       "      <td>10</td>\n",
       "      <td>Counter-Strike</td>\n",
       "      <td>This will be more of a ''my experience with th...</td>\n",
       "      <td>1</td>\n",
       "      <td>1</td>\n",
       "    </tr>\n",
       "    <tr>\n",
       "      <th>2</th>\n",
       "      <td>10</td>\n",
       "      <td>Counter-Strike</td>\n",
       "      <td>This game saved my virginity.</td>\n",
       "      <td>1</td>\n",
       "      <td>0</td>\n",
       "    </tr>\n",
       "    <tr>\n",
       "      <th>3</th>\n",
       "      <td>10</td>\n",
       "      <td>Counter-Strike</td>\n",
       "      <td>• Do you like original games? • Do you like ga...</td>\n",
       "      <td>1</td>\n",
       "      <td>0</td>\n",
       "    </tr>\n",
       "    <tr>\n",
       "      <th>4</th>\n",
       "      <td>10</td>\n",
       "      <td>Counter-Strike</td>\n",
       "      <td>Easy to learn, hard to master.</td>\n",
       "      <td>1</td>\n",
       "      <td>1</td>\n",
       "    </tr>\n",
       "  </tbody>\n",
       "</table>\n",
       "</div>"
      ],
      "text/plain": [
       "   app_id        app_name                                        review_text  \\\n",
       "0      10  Counter-Strike                                    Ruined my life.   \n",
       "1      10  Counter-Strike  This will be more of a ''my experience with th...   \n",
       "2      10  Counter-Strike                      This game saved my virginity.   \n",
       "3      10  Counter-Strike  • Do you like original games? • Do you like ga...   \n",
       "4      10  Counter-Strike           Easy to learn, hard to master.             \n",
       "\n",
       "   review_score  review_votes  \n",
       "0             1             0  \n",
       "1             1             1  \n",
       "2             1             0  \n",
       "3             1             0  \n",
       "4             1             1  "
      ]
     },
     "execution_count": 4,
     "metadata": {},
     "output_type": "execute_result"
    }
   ],
   "source": [
    "# Get the first 5 rows of the dataset\n",
    "df.head()"
   ]
  },
  {
   "cell_type": "code",
   "execution_count": 5,
   "metadata": {},
   "outputs": [
    {
     "name": "stdout",
     "output_type": "stream",
     "text": [
      "<class 'pandas.core.frame.DataFrame'>\n",
      "RangeIndex: 6417106 entries, 0 to 6417105\n",
      "Data columns (total 5 columns):\n",
      " #   Column        Dtype \n",
      "---  ------        ----- \n",
      " 0   app_id        int64 \n",
      " 1   app_name      object\n",
      " 2   review_text   object\n",
      " 3   review_score  int64 \n",
      " 4   review_votes  int64 \n",
      "dtypes: int64(3), object(2)\n",
      "memory usage: 244.8+ MB\n",
      "None\n"
     ]
    }
   ],
   "source": [
    "# Get basic information about the dataset\n",
    "print(df.info())"
   ]
  },
  {
   "cell_type": "code",
   "execution_count": 6,
   "metadata": {},
   "outputs": [
    {
     "name": "stdout",
     "output_type": "stream",
     "text": [
      "(6226728, 5)\n"
     ]
    }
   ],
   "source": [
    "# Clear rows with null values\n",
    "df = df.dropna()\n",
    "print(df.shape)"
   ]
  },
  {
   "cell_type": "code",
   "execution_count": 7,
   "metadata": {},
   "outputs": [],
   "source": [
    "# Check for reviews that contain only more than three words\n",
    "df = df[df['review_text'].str.count('\\s+') > 2]"
   ]
  },
  {
   "cell_type": "code",
   "execution_count": 8,
   "metadata": {},
   "outputs": [],
   "source": [
    "# Check for reviews that contain only space and remove them\n",
    "df = df[~df['review_text'].str.isspace()]"
   ]
  },
  {
   "cell_type": "code",
   "execution_count": 9,
   "metadata": {},
   "outputs": [],
   "source": [
    "# Check for reviews that don't contain any letters and remove them\n",
    "df = df[df['review_text'].str.contains('[a-zA-Z]')]"
   ]
  },
  {
   "cell_type": "code",
   "execution_count": 10,
   "metadata": {},
   "outputs": [],
   "source": [
    "# Check for reviews with the text 'Early Access Review' and remove them\n",
    "df = df[~df['review_text'].str.contains('Early Access Review')]"
   ]
  },
  {
   "cell_type": "code",
   "execution_count": 11,
   "metadata": {},
   "outputs": [],
   "source": [
    "# Drop duplicated reviews\n",
    "df = df.drop_duplicates(subset='review_text')"
   ]
  },
  {
   "cell_type": "code",
   "execution_count": 12,
   "metadata": {},
   "outputs": [],
   "source": [
    "# Change ♥ to * in the reviews\n",
    "df['review_text'] = df['review_text'].str.replace('♥', '*')"
   ]
  },
  {
   "cell_type": "code",
   "execution_count": 13,
   "metadata": {},
   "outputs": [
    {
     "name": "stdout",
     "output_type": "stream",
     "text": [
      "(4252161, 5)\n"
     ]
    }
   ],
   "source": [
    "# Reset the index and check the shape of the cleaned dataset\n",
    "df = df.reset_index(drop=True)\n",
    "print(df.shape)"
   ]
  },
  {
   "cell_type": "markdown",
   "metadata": {},
   "source": [
    "## Incrementing the dataset"
   ]
  },
  {
   "cell_type": "code",
   "execution_count": 14,
   "metadata": {},
   "outputs": [
    {
     "name": "stdout",
     "output_type": "stream",
     "text": [
      "8560\n"
     ]
    }
   ],
   "source": [
    "# Show how many unique games are in the dataset\n",
    "print(df['app_id'].nunique())"
   ]
  },
  {
   "cell_type": "code",
   "execution_count": 15,
   "metadata": {},
   "outputs": [],
   "source": [
    "# Get all unique app_ids in the dataset\n",
    "app_ids = df['app_id'].unique()"
   ]
  },
  {
   "cell_type": "markdown",
   "metadata": {},
   "source": [
    "### Adding categories column"
   ]
  },
  {
   "cell_type": "code",
   "execution_count": 16,
   "metadata": {},
   "outputs": [],
   "source": [
    "# Function to get the categories of a game from the Steam API\n",
    "# Creates a csv file with the app_id and its categories\n",
    "\n",
    "def get_categories(app_ids):\n",
    "    # Make a new dataframe with the unique app_ids\n",
    "    df_app_ids = pd.DataFrame(app_ids, columns=['app_id'])\n",
    "\n",
    "    # For each id, get the categories from the Steam API and save them in a new column\n",
    "    for id in app_ids:\n",
    "        url = f'https://store.steampowered.com/api/appdetails?appids={id}'\n",
    "        response = req.get(url)\n",
    "        data = response.json()\n",
    "        try:\n",
    "            categories = data[str(id)]['data']['categories']\n",
    "            categories = [category['description'] for category in categories]\n",
    "            df_app_ids.loc[df_app_ids['app_id'] == id, 'categories'] = ', '.join(categories)\n",
    "        except:\n",
    "            df_app_ids.loc[df_app_ids['app_id'] == id, 'categories'] = np.nan\n",
    "\n",
    "        # Wait for 1 second to avoid getting blocked by the server\n",
    "        time.sleep(1)\n",
    "\n",
    "    # Export the dataframe to a csv file\n",
    "    df_app_ids.to_csv(CATEGORIES_CSV_PATH, index=False)"
   ]
  },
  {
   "cell_type": "code",
   "execution_count": 17,
   "metadata": {},
   "outputs": [],
   "source": [
    "# # Get the categories of the games\n",
    "# get_categories(app_ids)"
   ]
  },
  {
   "cell_type": "code",
   "execution_count": 18,
   "metadata": {},
   "outputs": [],
   "source": [
    "# Read the df_app_ids dataframe and merge with the original dataset\n",
    "df_app_ids = pd.read_csv(CATEGORIES_CSV_PATH)\n",
    "df = df.merge(df_app_ids, on='app_id')"
   ]
  },
  {
   "cell_type": "code",
   "execution_count": 19,
   "metadata": {},
   "outputs": [],
   "source": [
    "# Fill NaN categories with empty string\n",
    "df['categories'] = df['categories'].fillna('')"
   ]
  },
  {
   "cell_type": "markdown",
   "metadata": {},
   "source": [
    "### Adding genres column"
   ]
  },
  {
   "cell_type": "code",
   "execution_count": 25,
   "metadata": {},
   "outputs": [],
   "source": [
    "# Function to get the genres of a game from the Steam API\n",
    "# Creates a csv file with the app_id and its genres\n",
    "\n",
    "def get_genres(app_ids):\n",
    "    # Make a new dataframe with the unique app_ids\n",
    "    df_app_ids = pd.DataFrame(app_ids, columns=['app_id'])\n",
    "\n",
    "    # For each id, get the genres from the Steam API and save them in a new column\n",
    "    for id in app_ids:\n",
    "        url = f'https://store.steampowered.com/api/appdetails?appids={id}&l=english'\n",
    "        response = req.get(url)\n",
    "        \n",
    "        response_text = response.content.decode('utf-8-sig')\n",
    "\n",
    "        try:\n",
    "            data = response.json()\n",
    "        except json.JSONDecodeError:\n",
    "            # Manually load the JSON data if the standard method fails\n",
    "            data = json.loads(response_text)\n",
    "\n",
    "        try:\n",
    "            genres = data[str(id)]['data']['genres']\n",
    "            genres = [genre['description'] for genre in genres]\n",
    "            df_app_ids.loc[df_app_ids['app_id'] == id, 'genres'] = ', '.join(genres)\n",
    "        except:\n",
    "            df_app_ids.loc[df_app_ids['app_id'] == id, 'genres'] = ''\n",
    "\n",
    "        # Wait for 1 second to avoid getting blocked by the server\n",
    "        time.sleep(1)\n",
    "\n",
    "    # Export the dataframe to a csv file\n",
    "    df_app_ids.to_csv(GENRES_CSV_PATH, index=False)"
   ]
  },
  {
   "cell_type": "code",
   "execution_count": 26,
   "metadata": {},
   "outputs": [],
   "source": [
    "# Get the genres of the games\n",
    "# get_genres(app_ids)"
   ]
  },
  {
   "cell_type": "code",
   "execution_count": 27,
   "metadata": {},
   "outputs": [],
   "source": [
    "# Read the df_app_ids dataframe and merge with the original dataset\n",
    "df_app_ids = pd.read_csv(GENRES_CSV_PATH)\n",
    "df = df.merge(df_app_ids, on='app_id')"
   ]
  },
  {
   "cell_type": "markdown",
   "metadata": {},
   "source": [
    "## Exporting cleaned dataset"
   ]
  },
  {
   "cell_type": "code",
   "execution_count": 29,
   "metadata": {},
   "outputs": [],
   "source": [
    "# Export the final dataset to a csv file\n",
    "CLEAN_DATA_PATH = 'datasets/cleaned_steam_reviews.csv' # change this to the path of the cleaned dataset\n",
    "df.to_csv(CLEAN_DATA_PATH, index=False)"
   ]
  }
 ],
 "metadata": {
  "kernelspec": {
   "display_name": "Python 3",
   "language": "python",
   "name": "python3"
  },
  "language_info": {
   "codemirror_mode": {
    "name": "ipython",
    "version": 3
   },
   "file_extension": ".py",
   "mimetype": "text/x-python",
   "name": "python",
   "nbconvert_exporter": "python",
   "pygments_lexer": "ipython3",
   "version": "3.8.8"
  }
 },
 "nbformat": 4,
 "nbformat_minor": 2
}
